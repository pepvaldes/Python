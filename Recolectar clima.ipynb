{
 "cells": [
  {
   "cell_type": "markdown",
   "metadata": {},
   "source": [
    "# Recolectar información del clima\n",
    "Curso de Python Científico versión 6 - https://github.com/badillosoft/python-scig#recolectar-informaci%C3%B3n-del-clima-1pt"
   ]
  },
  {
   "cell_type": "code",
   "execution_count": 1,
   "metadata": {},
   "outputs": [],
   "source": [
    "import scrapy\n",
    "from scrapy.crawler import CrawlerProcess\n",
    "from scrapy import Selector"
   ]
  },
  {
   "cell_type": "code",
   "execution_count": 1,
   "metadata": {},
   "outputs": [],
   "source": [
    "import json\n",
    "\n",
    "class JsonWriterPipeline(object):\n",
    "    \n",
    "    def open_spider(self, spider):\n",
    "        self.file = open('quoteresult.jl','w')\n",
    "        \n",
    "    def close_spider(self, spider):\n",
    "        self.file.close()\n",
    "        \n",
    "    def process_item(self, item, spider):\n",
    "        line = json.dumps(dict(item)) + \"\\n\"\n",
    "        self.file.write(line)\n",
    "        return item"
   ]
  },
  {
   "cell_type": "code",
   "execution_count": 3,
   "metadata": {},
   "outputs": [],
   "source": [
    "# Spider direccionado a la página de weather\n",
    "\n",
    "\n",
    "class ClimaSpider(scrapy.Spider):\n",
    "    name = \"cdmx\"\n",
    "    start_urls = [\"https://weather.com/es-MX/tiempo/hoy/l/MXDF0132:1:MX\"]\n",
    "    custom_settings = {\n",
    "        'ITEM_PIPELINES' : {'__main__.JsonWriterPipeline': 1}, \n",
    "        'FEED_FORMAT' : 'json',\n",
    "        'FEED_URI' : 'cdmx-%(time)s.json'\n",
    "    }\n",
    "    def parse(self, response):\n",
    "        for clima in response.css(\"div.today_nowcard-section\"):\n",
    "            yield {\n",
    "                \"temp\": clima.css(\"div.today_nowcard-temp span::text\").extract_first(),   # Extrae temperatura\n",
    "                \"desc\": clima.css(\"div.today_nowcard-phrase::text\").extract_first(),      # Extrae descripción\n",
    "                \"feel\": clima.css(\"div.today_nowcard-feels span.deg-feels::text\").extract_first(),           # Extrae sensación\n",
    "                \"max_min\": clima.css(\"div.today_nowcard-hilo span.deg-hilo-nowcard::text\").extract_first(),  # Extrae máxima y mínima\n",
    "                \"indiceUV\": clima.css(\"div.today_nowcard-hilo::text\").extract_first()                        # Extrae índice UV\n",
    "            }"
   ]
  },
  {
   "cell_type": "code",
   "execution_count": 4,
   "metadata": {},
   "outputs": [
    {
     "name": "stderr",
     "output_type": "stream",
     "text": [
      "2018-12-20 19:22:28 [scrapy.utils.log] INFO: Scrapy 1.5.1 started (bot: scrapybot)\n",
      "2018-12-20 19:22:28 [scrapy.utils.log] INFO: Versions: lxml 4.2.5.0, libxml2 2.9.8, cssselect 1.0.3, parsel 1.5.1, w3lib 1.19.0, Twisted 17.5.0, Python 2.7.15 | packaged by conda-forge | (default, Jul 27 2018, 10:23:44) - [GCC 4.2.1 Compatible Apple LLVM 6.1.0 (clang-602.0.53)], pyOpenSSL 18.0.0 (OpenSSL 1.0.2p  14 Aug 2018), cryptography 2.3.1, Platform Darwin-14.5.0-x86_64-i386-64bit\n",
      "2018-12-20 19:22:28 [scrapy.crawler] INFO: Overridden settings: {'FEED_FORMAT': 'json', 'FEED_URI': 'cdmx-%(time)s.json', 'USER_AGENT': 'Mozilla/4.0 (compatible; MSIE 7.0; Windows NT 5.1)'}\n",
      "2018-12-20 19:22:28 [scrapy.middleware] INFO: Enabled extensions:\n",
      "['scrapy.extensions.feedexport.FeedExporter',\n",
      " 'scrapy.extensions.memusage.MemoryUsage',\n",
      " 'scrapy.extensions.logstats.LogStats',\n",
      " 'scrapy.extensions.telnet.TelnetConsole',\n",
      " 'scrapy.extensions.corestats.CoreStats']\n",
      "2018-12-20 19:22:28 [scrapy.middleware] INFO: Enabled downloader middlewares:\n",
      "['scrapy.downloadermiddlewares.httpauth.HttpAuthMiddleware',\n",
      " 'scrapy.downloadermiddlewares.downloadtimeout.DownloadTimeoutMiddleware',\n",
      " 'scrapy.downloadermiddlewares.defaultheaders.DefaultHeadersMiddleware',\n",
      " 'scrapy.downloadermiddlewares.useragent.UserAgentMiddleware',\n",
      " 'scrapy.downloadermiddlewares.retry.RetryMiddleware',\n",
      " 'scrapy.downloadermiddlewares.redirect.MetaRefreshMiddleware',\n",
      " 'scrapy.downloadermiddlewares.httpcompression.HttpCompressionMiddleware',\n",
      " 'scrapy.downloadermiddlewares.redirect.RedirectMiddleware',\n",
      " 'scrapy.downloadermiddlewares.cookies.CookiesMiddleware',\n",
      " 'scrapy.downloadermiddlewares.httpproxy.HttpProxyMiddleware',\n",
      " 'scrapy.downloadermiddlewares.stats.DownloaderStats']\n",
      "2018-12-20 19:22:28 [scrapy.middleware] INFO: Enabled spider middlewares:\n",
      "['scrapy.spidermiddlewares.httperror.HttpErrorMiddleware',\n",
      " 'scrapy.spidermiddlewares.offsite.OffsiteMiddleware',\n",
      " 'scrapy.spidermiddlewares.referer.RefererMiddleware',\n",
      " 'scrapy.spidermiddlewares.urllength.UrlLengthMiddleware',\n",
      " 'scrapy.spidermiddlewares.depth.DepthMiddleware']\n",
      "2018-12-20 19:22:28 [scrapy.middleware] INFO: Enabled item pipelines:\n",
      "['__main__.JsonWriterPipeline']\n",
      "2018-12-20 19:22:28 [scrapy.core.engine] INFO: Spider opened\n",
      "2018-12-20 19:22:28 [scrapy.extensions.logstats] INFO: Crawled 0 pages (at 0 pages/min), scraped 0 items (at 0 items/min)\n",
      "2018-12-20 19:22:28 [scrapy.extensions.telnet] DEBUG: Telnet console listening on 127.0.0.1:6023\n",
      "2018-12-20 19:22:29 [scrapy.core.engine] DEBUG: Crawled (200) <GET https://weather.com/es-MX/tiempo/hoy/l/MXDF0132:1:MX> (referer: None)\n",
      "2018-12-20 19:22:29 [scrapy.core.scraper] DEBUG: Scraped from <200 https://weather.com/es-MX/tiempo/hoy/l/MXDF0132:1:MX>\n",
      "{'feel': u'13', 'max_min': None, 'indiceUV': None, 'temp': u'14', 'desc': u'Despejado'}\n",
      "2018-12-20 19:22:29 [scrapy.core.engine] INFO: Closing spider (finished)\n",
      "2018-12-20 19:22:29 [scrapy.extensions.feedexport] INFO: Stored json feed (1 items) in: cdmx-2018-12-21T01-22-28.json\n",
      "2018-12-20 19:22:29 [scrapy.statscollectors] INFO: Dumping Scrapy stats:\n",
      "{'downloader/request_bytes': 258,\n",
      " 'downloader/request_count': 1,\n",
      " 'downloader/request_method_count/GET': 1,\n",
      " 'downloader/response_bytes': 82865,\n",
      " 'downloader/response_count': 1,\n",
      " 'downloader/response_status_count/200': 1,\n",
      " 'finish_reason': 'finished',\n",
      " 'finish_time': datetime.datetime(2018, 12, 21, 1, 22, 29, 433983),\n",
      " 'item_scraped_count': 1,\n",
      " 'log_count/DEBUG': 3,\n",
      " 'log_count/INFO': 8,\n",
      " 'memusage/max': 61366272,\n",
      " 'memusage/startup': 61358080,\n",
      " 'response_received_count': 1,\n",
      " 'scheduler/dequeued': 1,\n",
      " 'scheduler/dequeued/memory': 1,\n",
      " 'scheduler/enqueued': 1,\n",
      " 'scheduler/enqueued/memory': 1,\n",
      " 'start_time': datetime.datetime(2018, 12, 21, 1, 22, 28, 441802)}\n",
      "2018-12-20 19:22:29 [scrapy.core.engine] INFO: Spider closed (finished)\n"
     ]
    }
   ],
   "source": [
    "process = CrawlerProcess({\n",
    "    'USER_AGENT': 'Mozilla/4.0 (compatible; MSIE 7.0; Windows NT 5.1)'\n",
    "})\n",
    "\n",
    "process.crawl(ClimaSpider)\n",
    "process.start()"
   ]
  },
  {
   "cell_type": "code",
   "execution_count": null,
   "metadata": {},
   "outputs": [],
   "source": []
  }
 ],
 "metadata": {
  "kernelspec": {
   "display_name": "Python 2",
   "language": "python",
   "name": "python2"
  },
  "language_info": {
   "codemirror_mode": {
    "name": "ipython",
    "version": 2
   },
   "file_extension": ".py",
   "mimetype": "text/x-python",
   "name": "python",
   "nbconvert_exporter": "python",
   "pygments_lexer": "ipython2",
   "version": "2.7.15"
  }
 },
 "nbformat": 4,
 "nbformat_minor": 2
}
