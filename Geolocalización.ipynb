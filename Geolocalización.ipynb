{
 "cells": [
  {
   "cell_type": "markdown",
   "metadata": {},
   "source": [
    "# Geolocalización\n",
    "Python Científico versión 6 - https://github.com/badillosoft/python-scig#geolocalizaci%C3%B3n-2pt"
   ]
  },
  {
   "cell_type": "code",
   "execution_count": 3,
   "metadata": {},
   "outputs": [
    {
     "name": "stdout",
     "output_type": "stream",
     "text": [
      "Dame latitud A: 19.414805\n",
      "Dame longitud A: -99.1729187\n",
      "Dame latitud B: 19.423203\n",
      "Dame longitud B: -99.1657197\n"
     ]
    }
   ],
   "source": [
    "latA = float(raw_input(\"Dame latitud A: \"))   #Solicita latitud y longitud, punto A\n",
    "longA = float(raw_input(\"Dame longitud A: \"))\n",
    "\n",
    "latB = float(raw_input(\"Dame latitud B: \"))   #Solicita latitud y longitud, punto B\n",
    "longB = float(raw_input(\"Dame longitud B: \"))"
   ]
  },
  {
   "cell_type": "code",
   "execution_count": 4,
   "metadata": {},
   "outputs": [],
   "source": [
    "from math import sin, cos, asin, pi\n",
    "\n",
    "#Formula de Haversine\n",
    "\n",
    "r = 6371000 #radio de la tierra \n",
    "\n",
    "c = (pi/180) #convertir radianes\n",
    "\n",
    "d_m = 2 * r * asin(( sin( c * ( latB - latA ) / 2 ) **2 + cos(c * latA) * cos(c * latB) * sin( c * (longB - longA) / 2 ) **2 ) ** 0.5)\n",
    "\n",
    "\n",
    "#Conversiones de KM, M, CM para la distancia entre dos puntos.\n",
    "d_km = d_m/1000\n",
    "d_cm = d_m * 100\n",
    "\n",
    "d_m = round(d_m, 2)\n",
    "d_km = round(d_km, 2)\n",
    "d_cm = round(d_cm, 2)\n",
    "\n",
    "#Conversiones de tiempo para peatón y auto\n",
    "\n",
    "p_h = d_km / 2\n",
    "p_min = p_h * 60\n",
    "p_seg = p_min * 60\n",
    "\n",
    "p_h = round(p_h, 2)\n",
    "p_min = round(p_min, 2)\n",
    "p_seg = round(p_seg, 2)\n",
    "\n",
    "a_h = d_km / 60\n",
    "a_min = a_h * 60\n",
    "a_seg = a_min * 60\n",
    "\n",
    "\n",
    "a_h = round(a_h, 2)\n",
    "a_min = round(a_min, 2)\n",
    "a_seg = round(a_seg, 2)\n",
    "\n",
    "\n",
    "\n"
   ]
  },
  {
   "cell_type": "code",
   "execution_count": 5,
   "metadata": {},
   "outputs": [
    {
     "name": "stdout",
     "output_type": "stream",
     "text": [
      "Coordenada A: (19.414805,-99.1729187)\n",
      "Coordenada B: (19.423203,-99.1657197)\n",
      "Distancia (120081.9cm, 1200.82m, 1.2km)\n",
      "Tiempo: \n",
      "Peatón: (2160.0seg, 36.0min, 0.6h)\n",
      "Auto: (72.0seg, 1.2min, 0.02h)\n"
     ]
    }
   ],
   "source": [
    "# Impresión de datos\n",
    "\n",
    "print(\"Coordenada A: ({},{})\".format(latA,longA))\n",
    "print(\"Coordenada B: ({},{})\".format(latB,longB))\n",
    "print(\"Distancia ({}cm, {}m, {}km)\".format(d_cm,d_m,d_km))\n",
    "print(\"Tiempo: \")\n",
    "print(\"Peatón: ({}seg, {}min, {}h)\".format(p_seg,p_min,p_h))\n",
    "print(\"Auto: ({}seg, {}min, {}h)\".format(a_seg,a_min,a_h))"
   ]
  },
  {
   "cell_type": "code",
   "execution_count": null,
   "metadata": {},
   "outputs": [],
   "source": []
  }
 ],
 "metadata": {
  "kernelspec": {
   "display_name": "Python 2",
   "language": "python",
   "name": "python2"
  },
  "language_info": {
   "codemirror_mode": {
    "name": "ipython",
    "version": 2
   },
   "file_extension": ".py",
   "mimetype": "text/x-python",
   "name": "python",
   "nbconvert_exporter": "python",
   "pygments_lexer": "ipython2",
   "version": "2.7.15"
  }
 },
 "nbformat": 4,
 "nbformat_minor": 2
}
